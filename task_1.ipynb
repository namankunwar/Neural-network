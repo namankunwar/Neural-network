{
 "cells": [
  {
   "cell_type": "code",
   "execution_count": 1,
   "metadata": {},
   "outputs": [],
   "source": [
    "import torch\n",
    "import torch.nn as nn\n",
    "import torch.optim as optim\n"
   ]
  },
  {
   "cell_type": "code",
   "execution_count": null,
   "metadata": {},
   "outputs": [],
   "source": [
    "# Simple model\n",
    "model = nn.Linear(2, 1)  # Input: 2 features, Output: 1 prediction\n",
    "loss_function = nn.MSELoss()\n",
    "optimizer = optim.SGD(model.parameters(), lr=0.01)\n",
    "\n",
    "# Training step\n",
    "input_1 = torch.tensor([[1.0, 2.0]])\n",
    "\n",
    "\n",
    "\n",
    "input = torch.tensor([[1.0, 2.0]])\n",
    "target = torch.tensor([[5.0]])\n",
    "output = model(input)  # Forward pass\n",
    "loss = loss_function(output, target)  # Calculate loss\n",
    "loss.backward()  # Compute gradients (backpropagation)\n",
    "optimizer.step()  # Update weights\n"
   ]
  }
 ],
 "metadata": {
  "kernelspec": {
   "display_name": "Python 3",
   "language": "python",
   "name": "python3"
  },
  "language_info": {
   "codemirror_mode": {
    "name": "ipython",
    "version": 3
   },
   "file_extension": ".py",
   "mimetype": "text/x-python",
   "name": "python",
   "nbconvert_exporter": "python",
   "pygments_lexer": "ipython3",
   "version": "3.10.0"
  }
 },
 "nbformat": 4,
 "nbformat_minor": 2
}
