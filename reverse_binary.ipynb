{
 "cells": [
  {
   "cell_type": "code",
   "execution_count": 12,
   "metadata": {},
   "outputs": [],
   "source": [
    "import torch\n",
    "import torch.nn as nn\n",
    "import torch.optim as optim"
   ]
  },
  {
   "cell_type": "code",
   "execution_count": 7,
   "metadata": {},
   "outputs": [],
   "source": [
    "\n",
    "# Define the neural network\n",
    "class ReverseBinaryNN(nn.Module):\n",
    "    def __init__(self, input_size):\n",
    "        super().__init__()\n",
    "        self.fc1 = nn.Linear(input_size, 64)  # Input layer\n",
    "        self.fc2 = nn.Linear(64, 64)         # Hidden layer\n",
    "        self.fc3 = nn.Linear(64, input_size) # Output layer\n",
    "\n",
    "    def forward(self, x):\n",
    "        x = torch.relu(self.fc1(x))\n",
    "        x = torch.relu(self.fc2(x))\n",
    "         # Use sigmoid for binary outputs\n",
    "        return torch.sigmoid(self.fc3(x))\n",
    "\n"
   ]
  },
  {
   "cell_type": "code",
   "execution_count": 8,
   "metadata": {},
   "outputs": [],
   "source": [
    "\n",
    "# Prepare data for training\n",
    "def generate_binary_data(size, seq_len):\n",
    "    X = torch.randint(0, 2, (size, seq_len), dtype=torch.float32)\n",
    "    y = torch.flip(X, dims=[1])  # Reverse the binary sequence\n",
    "    return X, y\n",
    "\n",
    "# Hyperparameters\n",
    "seq_len = 8\n",
    "\n",
    "# Generate data\n",
    "X, y = generate_binary_data(1000, seq_len)"
   ]
  },
  {
   "cell_type": "code",
   "execution_count": 9,
   "metadata": {},
   "outputs": [
    {
     "name": "stdout",
     "output_type": "stream",
     "text": [
      " Loss: 0.0001\n"
     ]
    }
   ],
   "source": [
    "\n",
    "# Initialize the network, loss function, and optimizer\n",
    "net = ReverseBinaryNN(seq_len)\n",
    "loss_function = nn.MSELoss()\n",
    "optimizer = optim.Adam(net.parameters(), lr=0.001)\n",
    "\n",
    "# Training loop\n",
    "for epoch in range(1000):\n",
    "    optimizer.zero_grad() #Resets the gradients to zero to prevent accumulation from previous iterations.\n",
    "    outputs = net(X) # Forward pass\n",
    "    loss = loss_function(outputs, y)\n",
    "    loss.backward()\n",
    "    optimizer.step()  # Update the weights\n",
    "print(f\" Loss: {loss.item():.4f}\")\n"
   ]
  },
  {
   "cell_type": "code",
   "execution_count": 19,
   "metadata": {},
   "outputs": [
    {
     "name": "stdout",
     "output_type": "stream",
     "text": [
      "Input: tensor([[1., 0., 0., 1., 1., 1., 1., 0.]])\n",
      "Reversed Output: tensor([[0., 1., 1., 1., 1., 0., 0., 1.]], grad_fn=<RoundBackward0>)\n"
     ]
    }
   ],
   "source": [
    "\n",
    "# Test the model\n",
    "\n",
    "#test_input = torch.tensor([[1, 0, 1, 1, 0, 1, 1, 0]], dtype=torch.float32)\n",
    "# Take user input for testing\n",
    "user_input = input(\"Enter an 8-bit binary number (e.g., 10110011): \")\n",
    "try:\n",
    "    test_input = torch.tensor([[int(a) for a in user_input]], dtype = torch.float32)\n",
    "    predicted_output = net(test_input).round()\n",
    "    print(f\"Input: {test_input}\")\n",
    "    print(f\"Reversed Output: {predicted_output}\")\n",
    "except Exception as e:\n",
    "    print(str(e))\n",
    "    pass"
   ]
  },
  {
   "cell_type": "code",
   "execution_count": 17,
   "metadata": {},
   "outputs": [
    {
     "data": {
      "text/plain": [
       "tensor([[1., 0., 1., 0., 0., 0., 1., 1.]])"
      ]
     },
     "execution_count": 17,
     "metadata": {},
     "output_type": "execute_result"
    }
   ],
   "source": []
  },
  {
   "cell_type": "code",
   "execution_count": 18,
   "metadata": {},
   "outputs": [
    {
     "data": {
      "text/plain": [
       "torch.Size([1, 8])"
      ]
     },
     "execution_count": 18,
     "metadata": {},
     "output_type": "execute_result"
    }
   ],
   "source": []
  },
  {
   "cell_type": "code",
   "execution_count": null,
   "metadata": {},
   "outputs": [],
   "source": []
  }
 ],
 "metadata": {
  "kernelspec": {
   "display_name": "Python 3",
   "language": "python",
   "name": "python3"
  },
  "language_info": {
   "codemirror_mode": {
    "name": "ipython",
    "version": 3
   },
   "file_extension": ".py",
   "mimetype": "text/x-python",
   "name": "python",
   "nbconvert_exporter": "python",
   "pygments_lexer": "ipython3",
   "version": "3.10.0"
  }
 },
 "nbformat": 4,
 "nbformat_minor": 2
}
